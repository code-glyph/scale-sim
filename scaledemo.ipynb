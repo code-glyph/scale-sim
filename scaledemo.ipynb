{
 "nbformat": 4,
 "nbformat_minor": 0,
 "metadata": {
  "colab": {
   "provenance": []
  },
  "kernelspec": {
   "name": "python3",
   "display_name": "Python 3 (ipykernel)",
   "language": "python"
  }
 },
 "cells": [
  {
   "cell_type": "code",
   "source": [
    "!git clone https://github.com/scalesim-project/scale-sim-v2.git"
   ],
   "metadata": {
    "id": "Fz8hJEQMbxHW",
    "outputId": "4b0e27d3-ba74-4099-e240-26add106d7f0",
    "colab": {
     "base_uri": "https://localhost:8080/"
    },
    "ExecuteTime": {
     "end_time": "2024-12-15T04:34:06.797941Z",
     "start_time": "2024-12-15T04:34:06.661358Z"
    }
   },
   "outputs": [
    {
     "name": "stdout",
     "output_type": "stream",
     "text": [
      "fatal: destination path 'scale-sim-v2' already exists and is not an empty directory.\r\n"
     ]
    }
   ],
   "execution_count": 11
  },
  {
   "metadata": {
    "ExecuteTime": {
     "end_time": "2024-12-15T04:35:32.580499Z",
     "start_time": "2024-12-15T04:35:32.069154Z"
    }
   },
   "cell_type": "code",
   "source": "!pip install scalesim",
   "outputs": [
    {
     "name": "stdout",
     "output_type": "stream",
     "text": [
      "Requirement already satisfied: scalesim in /Users/durva/Desktop/final-project (2.0.2)\r\n",
      "Requirement already satisfied: numpy in /opt/anaconda3/lib/python3.12/site-packages (from scalesim) (1.26.4)\r\n",
      "Requirement already satisfied: configparser in /opt/anaconda3/lib/python3.12/site-packages (from scalesim) (7.1.0)\r\n",
      "Requirement already satisfied: absl-py in /opt/anaconda3/lib/python3.12/site-packages (from scalesim) (2.1.0)\r\n",
      "Requirement already satisfied: tqdm in /opt/anaconda3/lib/python3.12/site-packages (from scalesim) (4.66.5)\r\n",
      "Requirement already satisfied: pandas in /opt/anaconda3/lib/python3.12/site-packages (from scalesim) (2.2.2)\r\n",
      "Requirement already satisfied: python-dateutil>=2.8.2 in /opt/anaconda3/lib/python3.12/site-packages (from pandas->scalesim) (2.9.0.post0)\r\n",
      "Requirement already satisfied: pytz>=2020.1 in /opt/anaconda3/lib/python3.12/site-packages (from pandas->scalesim) (2024.1)\r\n",
      "Requirement already satisfied: tzdata>=2022.7 in /opt/anaconda3/lib/python3.12/site-packages (from pandas->scalesim) (2023.3)\r\n",
      "Requirement already satisfied: six>=1.5 in /opt/anaconda3/lib/python3.12/site-packages (from python-dateutil>=2.8.2->pandas->scalesim) (1.16.0)\r\n"
     ]
    }
   ],
   "execution_count": 23
  },
  {
   "cell_type": "code",
   "source": "!pip install -e scale-sim-v2/",
   "metadata": {
    "id": "boM7RZlcb2aT",
    "outputId": "7d9a5e6a-eaed-4b85-8b81-1f8654ae5071",
    "colab": {
     "base_uri": "https://localhost:8080/",
     "height": 383
    },
    "ExecuteTime": {
     "end_time": "2024-12-15T04:35:33.373120Z",
     "start_time": "2024-12-15T04:35:32.716489Z"
    }
   },
   "outputs": [
    {
     "name": "stdout",
     "output_type": "stream",
     "text": [
      "Obtaining file:///Users/durva/Desktop/final-project/scale-sim-v2\r\n",
      "  Preparing metadata (setup.py) ... \u001B[?25ldone\r\n",
      "\u001B[?25hRequirement already satisfied: numpy in /opt/anaconda3/lib/python3.12/site-packages (from scalesim==2.0.2) (1.26.4)\r\n",
      "Requirement already satisfied: configparser in /opt/anaconda3/lib/python3.12/site-packages (from scalesim==2.0.2) (7.1.0)\r\n",
      "Requirement already satisfied: absl-py in /opt/anaconda3/lib/python3.12/site-packages (from scalesim==2.0.2) (2.1.0)\r\n",
      "Requirement already satisfied: tqdm in /opt/anaconda3/lib/python3.12/site-packages (from scalesim==2.0.2) (4.66.5)\r\n",
      "Requirement already satisfied: pandas in /opt/anaconda3/lib/python3.12/site-packages (from scalesim==2.0.2) (2.2.2)\r\n",
      "Requirement already satisfied: python-dateutil>=2.8.2 in /opt/anaconda3/lib/python3.12/site-packages (from pandas->scalesim==2.0.2) (2.9.0.post0)\r\n",
      "Requirement already satisfied: pytz>=2020.1 in /opt/anaconda3/lib/python3.12/site-packages (from pandas->scalesim==2.0.2) (2024.1)\r\n",
      "Requirement already satisfied: tzdata>=2022.7 in /opt/anaconda3/lib/python3.12/site-packages (from pandas->scalesim==2.0.2) (2023.3)\r\n",
      "Requirement already satisfied: six>=1.5 in /opt/anaconda3/lib/python3.12/site-packages (from python-dateutil>=2.8.2->pandas->scalesim==2.0.2) (1.16.0)\r\n",
      "Installing collected packages: scalesim\r\n",
      "  Attempting uninstall: scalesim\r\n",
      "    Found existing installation: scalesim 2.0.2\r\n",
      "\u001B[31mERROR: Exception:\r\n",
      "Traceback (most recent call last):\r\n",
      "  File \"/opt/anaconda3/lib/python3.12/site-packages/pip/_internal/cli/base_command.py\", line 105, in _run_wrapper\r\n",
      "    status = _inner_run()\r\n",
      "             ^^^^^^^^^^^^\r\n",
      "  File \"/opt/anaconda3/lib/python3.12/site-packages/pip/_internal/cli/base_command.py\", line 96, in _inner_run\r\n",
      "    return self.run(options, args)\r\n",
      "           ^^^^^^^^^^^^^^^^^^^^^^^\r\n",
      "  File \"/opt/anaconda3/lib/python3.12/site-packages/pip/_internal/cli/req_command.py\", line 67, in wrapper\r\n",
      "    return func(self, options, args)\r\n",
      "           ^^^^^^^^^^^^^^^^^^^^^^^^^\r\n",
      "  File \"/opt/anaconda3/lib/python3.12/site-packages/pip/_internal/commands/install.py\", line 457, in run\r\n",
      "    installed = install_given_reqs(\r\n",
      "                ^^^^^^^^^^^^^^^^^^^\r\n",
      "  File \"/opt/anaconda3/lib/python3.12/site-packages/pip/_internal/req/__init__.py\", line 65, in install_given_reqs\r\n",
      "    uninstalled_pathset = requirement.uninstall(auto_confirm=True)\r\n",
      "                          ^^^^^^^^^^^^^^^^^^^^^^^^^^^^^^^^^^^^^^^^\r\n",
      "  File \"/opt/anaconda3/lib/python3.12/site-packages/pip/_internal/req/req_install.py\", line 722, in uninstall\r\n",
      "    uninstalled_pathset = UninstallPathSet.from_dist(dist)\r\n",
      "                          ^^^^^^^^^^^^^^^^^^^^^^^^^^^^^^^^\r\n",
      "  File \"/opt/anaconda3/lib/python3.12/site-packages/pip/_internal/req/req_uninstall.py\", line 528, in from_dist\r\n",
      "    assert os.path.samefile(\r\n",
      "           ^^^^^^^^^^^^^^^^^\r\n",
      "AssertionError: Egg-link /opt/anaconda3/lib/python3.12/site-packages/scalesim.egg-link (to /Users/durva/Desktop/final-project/scale-sim-v2) does not match installed location of scalesim (at /Users/durva/Desktop/final-project)\u001B[0m\u001B[31m\r\n",
      "\u001B[0m"
     ]
    }
   ],
   "execution_count": 24
  },
  {
   "metadata": {
    "ExecuteTime": {
     "end_time": "2024-12-15T04:36:16.152228Z",
     "start_time": "2024-12-15T04:36:16.034691Z"
    }
   },
   "cell_type": "code",
   "source": "!pwd",
   "outputs": [
    {
     "name": "stdout",
     "output_type": "stream",
     "text": [
      "/Users/durva/Desktop/final-project\r\n"
     ]
    }
   ],
   "execution_count": 29
  },
  {
   "metadata": {
    "ExecuteTime": {
     "end_time": "2024-12-15T04:36:19.566325Z",
     "start_time": "2024-12-15T04:36:19.563034Z"
    }
   },
   "cell_type": "code",
   "source": [
    "from scalesim.scale_sim import scalesim\n",
    "\n",
    "config = \"scale-sim-v2/configs/scale.cfg\"\n",
    "topo = \"scale-sim-v2/topologies/conv_nets/alexnet_part.csv\"\n",
    "print(f\"config file path: {config}\")\n",
    "print(f\"topology path: {topo}\")"
   ],
   "outputs": [
    {
     "name": "stdout",
     "output_type": "stream",
     "text": [
      "config file path: scale-sim-v2/configs/scale.cfg\n",
      "topology path: scale-sim-v2/topologies/conv_nets/alexnet_part.csv\n"
     ]
    }
   ],
   "execution_count": 30
  },
  {
   "cell_type": "code",
   "metadata": {
    "id": "1LaF5TP7IeIq",
    "ExecuteTime": {
     "end_time": "2024-12-15T04:36:28.709011Z",
     "start_time": "2024-12-15T04:36:28.705756Z"
    }
   },
   "source": [
    "top = \"alexnet\"\n",
    "s = scalesim(save_disk_space=False, verbose=True,\n",
    "              config=config,\n",
    "              topology=topo\n",
    "              )\n"
   ],
   "outputs": [],
   "execution_count": 31
  },
  {
   "cell_type": "code",
   "metadata": {
    "colab": {
     "base_uri": "https://localhost:8080/"
    },
    "id": "fIMP7-27PODo",
    "outputId": "8d75445a-9e0a-4137-adbf-309941bf9343",
    "ExecuteTime": {
     "end_time": "2024-12-15T04:36:40.665924Z",
     "start_time": "2024-12-15T04:36:30.467029Z"
    }
   },
   "source": [
    "s.run_scale(top_path=top)"
   ],
   "outputs": [
    {
     "name": "stdout",
     "output_type": "stream",
     "text": [
      "====================================================\n",
      "******************* SCALE SIM **********************\n",
      "====================================================\n",
      "Array Size: \t32x32\n",
      "SRAM IFMAP (kB): \t64\n",
      "SRAM Filter (kB): \t64\n",
      "SRAM OFMAP (kB): \t64\n",
      "Dataflow: \tOutput Stationary\n",
      "CSV file path: \tscale-sim-v2/topologies/conv_nets/alexnet_part.csv\n",
      "Working in ESTIMATE BANDWIDTH mode.\n",
      "====================================================\n",
      "\n",
      "Running Layer 0\n"
     ]
    },
    {
     "name": "stderr",
     "output_type": "stream",
     "text": [
      "100%|██████████| 121125/121125 [00:07<00:00, 16038.08it/s]\n"
     ]
    },
    {
     "name": "stdout",
     "output_type": "stream",
     "text": [
      "Compute cycles: 121124\n",
      "Stall cycles: 0\n",
      "Overall utilization: 84.99%\n",
      "Mapping efficiency: 99.51%\n",
      "Average IFMAP DRAM BW: 4.439 words/cycle\n",
      "Average Filter DRAM BW: 0.526 words/cycle\n",
      "Average OFMAP DRAM BW: 2.688 words/cycle\n",
      "Saving traces: Done!\n",
      "************ SCALE SIM Run Complete ****************\n"
     ]
    }
   ],
   "execution_count": 32
  },
  {
   "cell_type": "code",
   "source": [],
   "metadata": {
    "id": "f94_sEWjdLKS"
   },
   "execution_count": null,
   "outputs": []
  }
 ]
}
